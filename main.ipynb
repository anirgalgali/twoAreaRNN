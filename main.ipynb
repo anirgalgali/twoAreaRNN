{
 "cells": [
  {
   "cell_type": "code",
   "execution_count": null,
   "metadata": {},
   "outputs": [],
   "source": [
    "import numpy as np\n",
    "import matplotlib.pyplot as plt\n",
    "from model import SingleAreaModule, TwoAreaRNN "
   ]
  },
  {
   "cell_type": "code",
   "execution_count": null,
   "metadata": {},
   "outputs": [],
   "source": [
    "# Setting high level simulation parameters\n",
    "T = 12000\n",
    "NUM_TRIALS = 1000\n",
    "LATENT_DIM = 2"
   ]
  },
  {
   "cell_type": "code",
   "execution_count": null,
   "metadata": {},
   "outputs": [],
   "source": [
    "ppc_module = SingleAreaModule('ppc',0.35,0.28387,0.15,0)\n",
    "pfc_module = SingleAreaModule('pfc',0.4182,0.28387,0,0.04)\n",
    "model_obj = TwoAreaRNN([(ppc_module,pfc_module)])\n",
    "model_obj.add_external_input([0.00052*np.eye(2,dtype = 'float'),0*np.eye(2,dtype = 'float')])\n",
    "external_inputs = [25*np.ones((LATENT_DIM,NUM_TRIALS,T)),0*np.ones((LATENT_DIM,NUM_TRIALS,T))]\n",
    "model_obj.forward(external_inputs)"
   ]
  },
  {
   "cell_type": "code",
   "execution_count": null,
   "metadata": {},
   "outputs": [],
   "source": [
    "# Inspecting the network weights\n",
    "weight_type = 'inp'\n",
    "for node,neighbors in model_obj.model.items():\n",
    "    if weight_type == 'fbk':\n",
    "        print(\"weights_\"+node.name +\"={}\".format(node.J_fbk))\n",
    "        for neighbor in neighbors:\n",
    "            print(\"weights_\"+neighbor.name +\"={}\".format(neighbor.J_fbk))\n",
    "    elif weight_type == 'rec':\n",
    "        print(\"weights_\"+node.name +\"={}\".format(node.J_rec))\n",
    "        for neighbor in neighbors:\n",
    "            print(\"weights_\"+neighbor.name +\"={}\".format(neighbor.J_rec))\n",
    "    elif weight_type == 'fwd':\n",
    "        print(\"weights_\"+node.name +\"={}\".format(node.J_fwd))\n",
    "        for neighbor in neighbors:\n",
    "            print(\"weights_\"+neighbor.name +\"={}\".format(neighbor.J_fwd))\n",
    "    elif weight_type == 'inp':\n",
    "        print(\"weights_\"+node.name +\"={}\".format(node.J_inp))\n",
    "        for neighbor in neighbors:\n",
    "            print(\"weights_\"+neighbor.name +\"={}\".format(neighbor.J_inp))"
   ]
  },
  {
   "cell_type": "code",
   "execution_count": null,
   "metadata": {},
   "outputs": [],
   "source": [
    "for node in model_obj.model.keys():\n",
    "    print(node.name)"
   ]
  },
  {
   "cell_type": "code",
   "execution_count": null,
   "metadata": {},
   "outputs": [],
   "source": [
    "for node in model_obj.model.keys():\n",
    "    plt.figure(1)\n",
    "    for k in range(NUM_TRIALS):\n",
    "        plt.subplot(211)\n",
    "        plt.plot(np.arange(T), node.latents[0,k,:], 'k')\n",
    "        plt.subplot(212)\n",
    "        plt.plot(np.arange(T), node.latents[1,k,:], 'k')\n",
    "    plt.show()"
   ]
  },
  {
   "cell_type": "code",
   "execution_count": null,
   "metadata": {},
   "outputs": [],
   "source": [
    "for node in model_obj.model.keys():\n",
    "    plt.figure(1)\n",
    "    cols = ['k','r']\n",
    "    for k in range(2):\n",
    "        plt.subplot(211)\n",
    "        plt.plot(np.arange(T), node.i_noise[0,k,:], cols[k])\n",
    "        plt.subplot(212)\n",
    "        plt.plot(np.arange(T), node.i_noise[1,k,:], cols[k])\n",
    "    plt.show()"
   ]
  }
 ],
 "metadata": {
  "kernelspec": {
   "display_name": "Python 3",
   "language": "python",
   "name": "python3"
  },
  "language_info": {
   "codemirror_mode": {
    "name": "ipython",
    "version": 3
   },
   "file_extension": ".py",
   "mimetype": "text/x-python",
   "name": "python",
   "nbconvert_exporter": "python",
   "pygments_lexer": "ipython3",
   "version": "3.6.9"
  }
 },
 "nbformat": 4,
 "nbformat_minor": 2
}
